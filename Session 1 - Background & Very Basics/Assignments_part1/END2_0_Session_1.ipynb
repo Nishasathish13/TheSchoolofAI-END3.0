{
  "nbformat": 4,
  "nbformat_minor": 0,
  "metadata": {
    "colab": {
      "name": "END2.0 Session 1.ipynb",
      "provenance": []
    },
    "kernelspec": {
      "name": "python3",
      "display_name": "Python 3"
    },
    "language_info": {
      "name": "python"
    }
  },
  "cells": [
    {
      "cell_type": "markdown",
      "metadata": {
        "id": "bvMnn-Bz6fen"
      },
      "source": [
        "#Assignment Part 1\n",
        "Session 1 - Background & Very Basics\n",
        "\n",
        "Due Saturday by 9:30am Points 300 Submitting a text entry box or a website url Available Sep 18 at 1pm - Sep 25 at 9:30am 7 days"
      ]
    },
    {
      "cell_type": "markdown",
      "metadata": {
        "id": "HUHDXhpD62UF"
      },
      "source": [
        "**Rewrite the Colab file and:**\n",
        "\n",
        "*  remove the last activation function\n",
        "*  make sure there are in total 44 \n",
        "*  run it for 2001 epochs\n",
        "\n",
        "\n",
        "\n"
      ]
    },
    {
      "cell_type": "code",
      "metadata": {
        "colab": {
          "base_uri": "https://localhost:8080/"
        },
        "id": "GC_6PeobwwkH",
        "outputId": "d8be5dc8-15e8-4ed0-e3da-769d7c7c1dcc"
      },
      "source": [
        "import torch\n",
        "from torch.autograd import Variable\n",
        "import torch.nn as nn\n",
        "import torch.nn.functional as F\n",
        "import torch.optim as optim\n",
        "import numpy as np\n",
        "import matplotlib.pyplot as plt\n",
        "%matplotlib inline\n",
        "torch.manual_seed(2)"
      ],
      "execution_count": 1,
      "outputs": [
        {
          "output_type": "execute_result",
          "data": {
            "text/plain": [
              "<torch._C.Generator at 0x7f5abcc46050>"
            ]
          },
          "metadata": {},
          "execution_count": 1
        }
      ]
    },
    {
      "cell_type": "code",
      "metadata": {
        "id": "bL64bMTkw2GP"
      },
      "source": [
        "X = torch.Tensor([[0,0], [0,1], [1,0], [1,1]])\n",
        "Y = torch.Tensor([0, 1, 1, 0]).view(-1,1)"
      ],
      "execution_count": 2,
      "outputs": []
    },
    {
      "cell_type": "markdown",
      "metadata": {
        "id": "IIi49Qq-7TsY"
      },
      "source": [
        "Removing the last activation layer by commenting out!\n",
        "\n",
        "Making changes to obtain a total of 44 parameters\n"
      ]
    },
    {
      "cell_type": "code",
      "metadata": {
        "id": "aC82kEAIw3Wf"
      },
      "source": [
        "#Original code\n",
        "\n",
        "#class XOR(nn.Module):\n",
        "#     def __init__(self, input_dim = 2, output_dim=1):\n",
        "#         super(XOR, self).__init__()\n",
        "#         self.lin1 = nn.Linear(input_dim, 2)\n",
        "#         self.lin2 = nn.Linear(2, output_dim)\n",
        "\n",
        "#Modified code to obtain an exact of 44 parameters\n",
        "class XOR(nn.Module):\n",
        "    def __init__(self, input_dim = 2, output_dim=1):\n",
        "        super(XOR, self).__init__()\n",
        "\n",
        "        #changed the number of units/neuron from 2 to 11\n",
        "        self.lin1 = nn.Linear(input_dim, 11) #bias = True by default unless explicitly mentioned\n",
        "\n",
        "        #changed the number of units/neuron from 2 to 11 (default) and changed bias to False to decrease the params by 1\n",
        "        self.lin2 = nn.Linear(11, output_dim, bias = False)\n",
        "    \n",
        "    def forward(self, x):\n",
        "        x = self.lin1(x)\n",
        "        x = F.tanh(x)\n",
        "        x = self.lin2(x)\n",
        "        #x = F.tanh(x)   Commenting out the line which is the last activation layer (Activation function used = tanh())\n",
        "        return x"
      ],
      "execution_count": 7,
      "outputs": []
    },
    {
      "cell_type": "code",
      "metadata": {
        "colab": {
          "base_uri": "https://localhost:8080/"
        },
        "id": "8gQIQExYw65K",
        "outputId": "ccd181db-5144-4ef5-aba3-6e517ac7719f"
      },
      "source": [
        "model = XOR()\n",
        "print(model)\n",
        "from torchsummary import summary\n",
        "summary(model, (2,2))"
      ],
      "execution_count": 8,
      "outputs": [
        {
          "output_type": "stream",
          "name": "stdout",
          "text": [
            "XOR(\n",
            "  (lin1): Linear(in_features=2, out_features=11, bias=True)\n",
            "  (lin2): Linear(in_features=11, out_features=1, bias=False)\n",
            ")\n",
            "----------------------------------------------------------------\n",
            "        Layer (type)               Output Shape         Param #\n",
            "================================================================\n",
            "            Linear-1                [-1, 2, 11]              33\n",
            "            Linear-2                 [-1, 2, 1]              11\n",
            "================================================================\n",
            "Total params: 44\n",
            "Trainable params: 44\n",
            "Non-trainable params: 0\n",
            "----------------------------------------------------------------\n",
            "Input size (MB): 0.00\n",
            "Forward/backward pass size (MB): 0.00\n",
            "Params size (MB): 0.00\n",
            "Estimated Total Size (MB): 0.00\n",
            "----------------------------------------------------------------\n"
          ]
        },
        {
          "output_type": "stream",
          "name": "stderr",
          "text": [
            "/usr/local/lib/python3.7/dist-packages/torch/nn/functional.py:1794: UserWarning: nn.functional.tanh is deprecated. Use torch.tanh instead.\n",
            "  warnings.warn(\"nn.functional.tanh is deprecated. Use torch.tanh instead.\")\n"
          ]
        }
      ]
    },
    {
      "cell_type": "code",
      "metadata": {
        "id": "yeotEq19x6XF"
      },
      "source": [
        "def weights_init(model):\n",
        "    for m in model.modules():\n",
        "        if isinstance(m, nn.Linear):\n",
        "            # initialize the weight tensor, here we use a normal distribution\n",
        "            m.weight.data.normal_(0, 1)\n",
        "\n",
        "weights_init(model)"
      ],
      "execution_count": 9,
      "outputs": []
    },
    {
      "cell_type": "code",
      "metadata": {
        "id": "WrD_sNzLx78e"
      },
      "source": [
        "loss_func = nn.L1Loss()"
      ],
      "execution_count": 10,
      "outputs": []
    },
    {
      "cell_type": "code",
      "metadata": {
        "id": "-zvbrMd2x_lA"
      },
      "source": [
        "optimizer = optim.SGD(model.parameters(), lr=0.02, momentum=0.9)\n"
      ],
      "execution_count": 11,
      "outputs": []
    },
    {
      "cell_type": "markdown",
      "metadata": {
        "id": "NBTVf-R6-Qrc"
      },
      "source": [
        "To run the code for 2001 epochs (Including the 0th epoch)\n"
      ]
    },
    {
      "cell_type": "code",
      "metadata": {
        "colab": {
          "base_uri": "https://localhost:8080/"
        },
        "id": "q7tWa3D7yA5X",
        "outputId": "18b8cb08-d515-4526-db47-e92469a3c63d"
      },
      "source": [
        "#Changed the epoch value from 300 to 2001\n",
        "epochs = 2001\n",
        "steps = X.size(0)\n",
        "for i in range(epochs):\n",
        "    for j in range(steps):\n",
        "        data_point = np.random.randint(X.size(0))\n",
        "        x_var = Variable(X[data_point], requires_grad=False)\n",
        "        y_var = Variable(Y[data_point], requires_grad=False)\n",
        "        \n",
        "        optimizer.zero_grad()\n",
        "        y_hat = model(x_var)\n",
        "        loss = loss_func.forward(y_hat, y_var)\n",
        "        loss.backward()\n",
        "        optimizer.step()\n",
        "        \n",
        "    if i % 50 == 0:\n",
        "        print( \"Epoch: {0}, Loss: {1}, \".format(i, loss.data.numpy()))"
      ],
      "execution_count": 12,
      "outputs": [
        {
          "output_type": "stream",
          "name": "stderr",
          "text": [
            "/usr/local/lib/python3.7/dist-packages/torch/nn/functional.py:1794: UserWarning: nn.functional.tanh is deprecated. Use torch.tanh instead.\n",
            "  warnings.warn(\"nn.functional.tanh is deprecated. Use torch.tanh instead.\")\n"
          ]
        },
        {
          "output_type": "stream",
          "name": "stdout",
          "text": [
            "Epoch: 0, Loss: 0.33801281452178955, \n",
            "Epoch: 50, Loss: 0.024223268032073975, \n",
            "Epoch: 100, Loss: 0.0329974889755249, \n",
            "Epoch: 150, Loss: 0.2619923949241638, \n",
            "Epoch: 200, Loss: 0.5753366947174072, \n",
            "Epoch: 250, Loss: 0.06442880630493164, \n",
            "Epoch: 300, Loss: 0.2450914978981018, \n",
            "Epoch: 350, Loss: 0.016666792333126068, \n",
            "Epoch: 400, Loss: 0.06133502349257469, \n",
            "Epoch: 450, Loss: 0.017986303195357323, \n",
            "Epoch: 500, Loss: 0.39600104093551636, \n",
            "Epoch: 550, Loss: 0.20112724602222443, \n",
            "Epoch: 600, Loss: 0.05731150507926941, \n",
            "Epoch: 650, Loss: 0.09753423929214478, \n",
            "Epoch: 700, Loss: 0.028833502903580666, \n",
            "Epoch: 750, Loss: 0.3461036682128906, \n",
            "Epoch: 800, Loss: 0.1280076503753662, \n",
            "Epoch: 850, Loss: 0.13852804899215698, \n",
            "Epoch: 900, Loss: 0.037232138216495514, \n",
            "Epoch: 950, Loss: 0.03139984607696533, \n",
            "Epoch: 1000, Loss: 0.07471337169408798, \n",
            "Epoch: 1050, Loss: 0.1171344518661499, \n",
            "Epoch: 1100, Loss: 0.11606037616729736, \n",
            "Epoch: 1150, Loss: 0.06747937202453613, \n",
            "Epoch: 1200, Loss: 0.023045241832733154, \n",
            "Epoch: 1250, Loss: 0.03421437740325928, \n",
            "Epoch: 1300, Loss: 0.047274231910705566, \n",
            "Epoch: 1350, Loss: 0.3138393759727478, \n",
            "Epoch: 1400, Loss: 0.019207511097192764, \n",
            "Epoch: 1450, Loss: 0.08972764015197754, \n",
            "Epoch: 1500, Loss: 0.15487360954284668, \n",
            "Epoch: 1550, Loss: 0.0917859897017479, \n",
            "Epoch: 1600, Loss: 0.08554863929748535, \n",
            "Epoch: 1650, Loss: 0.007039427757263184, \n",
            "Epoch: 1700, Loss: 0.16567033529281616, \n",
            "Epoch: 1750, Loss: 0.04624762013554573, \n",
            "Epoch: 1800, Loss: 0.10534143447875977, \n",
            "Epoch: 1850, Loss: 0.0025024940259754658, \n",
            "Epoch: 1900, Loss: 0.03251779079437256, \n",
            "Epoch: 1950, Loss: 0.16443175077438354, \n",
            "Epoch: 2000, Loss: 0.36233770847320557, \n"
          ]
        }
      ]
    },
    {
      "cell_type": "code",
      "metadata": {
        "id": "QV0dIdveyCRi"
      },
      "source": [
        ""
      ],
      "execution_count": null,
      "outputs": []
    }
  ]
}